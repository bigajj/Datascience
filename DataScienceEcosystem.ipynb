{
 "cells": [
  {
   "cell_type": "markdown",
   "id": "eec48449",
   "metadata": {},
   "source": [
    "# Data Science Tools and Ecosystem"
   ]
  },
  {
   "cell_type": "markdown",
   "id": "618984cb",
   "metadata": {},
   "source": [
    "In this notebook, Data Science Tools and Ecosystem are summarized."
   ]
  },
  {
   "cell_type": "markdown",
   "id": "c2c98a4c",
   "metadata": {},
   "source": [
    "**Objectives:**\n",
    "+ SQL\n",
    "+ Python\n",
    "+ R\n",
    "+ Julia\n",
    "+ Anconda"
   ]
  },
  {
   "cell_type": "markdown",
   "id": "acf5c3f7",
   "metadata": {},
   "source": [
    "### Some of the popular languages that Data Scientists use are:\n",
    "#### 1. python\n",
    "#### 2. R\n",
    "#### 3. Julia"
   ]
  },
  {
   "cell_type": "markdown",
   "id": "32208391",
   "metadata": {},
   "source": [
    "### Some of the commonly used libraries used by Data Scientists include:\n",
    "#### 1. pandas\n",
    "#### 2. numpy\n",
    "#### 3. scikit-learn"
   ]
  },
  {
   "cell_type": "markdown",
   "id": "13c5102e",
   "metadata": {},
   "source": [
    "|Data Science Tools|\n",
    "|:-:|\n",
    "|Jupyter Notebook|\n",
    "|RStudio|\n",
    "|Visual Studio Code\""
   ]
  },
  {
   "cell_type": "markdown",
   "id": "2cd6eb4c",
   "metadata": {},
   "source": [
    "### Below are a few examples of evaluating arithmetic expressions in Python"
   ]
  },
  {
   "cell_type": "code",
   "execution_count": 1,
   "id": "083283af",
   "metadata": {},
   "outputs": [
    {
     "data": {
      "text/plain": [
       "17"
      ]
     },
     "execution_count": 1,
     "metadata": {},
     "output_type": "execute_result"
    }
   ],
   "source": [
    "#This a simple arithmetic expression to mutiply then add integers\n",
    "(3*4)+5"
   ]
  },
  {
   "cell_type": "code",
   "execution_count": 2,
   "id": "30212bd0",
   "metadata": {},
   "outputs": [
    {
     "name": "stdout",
     "output_type": "stream",
     "text": [
      "200 minutes to hours is 3.3333333333333335 hours\n"
     ]
    }
   ],
   "source": [
    "#This will convert 200 minutes to hours by diving by 60\n",
    "print(f\"200 minutes to hours is {200/60} hours\")"
   ]
  },
  {
   "cell_type": "markdown",
   "id": "92adaaff",
   "metadata": {},
   "source": [
    "## Author\n",
    "James Jerry Biga"
   ]
  },
  {
   "cell_type": "code",
   "execution_count": null,
   "id": "ddb8de73",
   "metadata": {},
   "outputs": [],
   "source": []
  }
 ],
 "metadata": {
  "kernelspec": {
   "display_name": "Python 3 (ipykernel)",
   "language": "python",
   "name": "python3"
  },
  "language_info": {
   "codemirror_mode": {
    "name": "ipython",
    "version": 3
   },
   "file_extension": ".py",
   "mimetype": "text/x-python",
   "name": "python",
   "nbconvert_exporter": "python",
   "pygments_lexer": "ipython3",
   "version": "3.9.12"
  }
 },
 "nbformat": 4,
 "nbformat_minor": 5
}
